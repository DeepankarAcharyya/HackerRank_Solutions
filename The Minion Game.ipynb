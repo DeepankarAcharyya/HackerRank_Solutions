{
 "cells": [
  {
   "cell_type": "code",
   "execution_count": 4,
   "metadata": {},
   "outputs": [
    {
     "name": "stdout",
     "output_type": "stream",
     "text": [
      "Stuart  12\n"
     ]
    }
   ],
   "source": [
    "#v1\n",
    "def minion_game(start):\n",
    "    string_chars=set(start)\n",
    "\n",
    "    vowels_set=set(['A','E','I','O','U'])\n",
    "    vowels_present=vowels_set.intersection(string_chars)\n",
    "    consonants_present=string_chars.difference(vowels_present)\n",
    "\n",
    "    stuart_score=0\n",
    "    kevin_score=0\n",
    "    end=len(start)\n",
    "    index=0\n",
    "    \n",
    "    for i in vowels_present:\n",
    "        for j in range(end):\n",
    "            string=start[j:end]\n",
    "            if(string[0]==i):\n",
    "                kevin_score+=len(string)\n",
    "    index=0\n",
    "    for i in consonants_present:\n",
    "        for j in range(end):\n",
    "            string=start[j:end]\n",
    "            if(string[0]==i):\n",
    "                stuart_score+=len(string)\n",
    "                \n",
    "    #score detector\n",
    "    if stuart_score>kevin_score:\n",
    "        print(\"Stuart \",stuart_score)\n",
    "    elif stuart_score<kevin_score:\n",
    "        print(\"Kevin \",kevin_score)\n",
    "    else:\n",
    "        print(\"Draw\")\n",
    "\n",
    "minion_game('BANANA')"
   ]
  },
  {
   "cell_type": "code",
   "execution_count": 5,
   "metadata": {},
   "outputs": [
    {
     "name": "stdout",
     "output_type": "stream",
     "text": [
      "Stuart 12\n"
     ]
    }
   ],
   "source": [
    "#v2\n",
    "def minion_game1(start):\n",
    "    string_chars=set(start)\n",
    "\n",
    "    vowels_set=set(['A','E','I','O','U'])\n",
    "    vowels_present=vowels_set.intersection(string_chars)\n",
    "    consonants_present=string_chars.difference(vowels_present)\n",
    "\n",
    "    stuart_score=0\n",
    "    kevin_score=0\n",
    "    end=len(start)\n",
    "    index=0\n",
    "    \n",
    "    \n",
    "    for j in range(end):\n",
    "        string=start[j:end]\n",
    "        for i in vowels_present:\n",
    "            if(string[0]==i):\n",
    "                kevin_score+=len(string)\n",
    "        for i in consonants_present:\n",
    "            if(string[0]==i):\n",
    "                stuart_score+=len(string)\n",
    "                \n",
    "    #score detector\n",
    "    if stuart_score>kevin_score:\n",
    "        print(\"Stuart\",stuart_score)\n",
    "    elif stuart_score<kevin_score:\n",
    "        print(\"Kevin\",kevin_score)\n",
    "    else:\n",
    "        print(\"Draw\")\n",
    "\n",
    "minion_game1('BANANA')"
   ]
  },
  {
   "cell_type": "code",
   "execution_count": null,
   "metadata": {},
   "outputs": [],
   "source": [
    "#v3\n",
    "def minion_game2(start):\n",
    "    string_chars=set(start)\n",
    "\n",
    "    vowels_set=set(['A','E','I','O','U'])\n",
    "    vowels_present=vowels_set.intersection(string_chars)\n",
    "    consonants_present=string_chars.difference(vowels_present)\n",
    "\n",
    "    stuart_score=0\n",
    "    kevin_score=0\n",
    "    end=len(start)\n",
    "    index=0\n",
    "    \n",
    "    \n",
    "    for j in range(end):\n",
    "        string=start[j:end]\n",
    "        for i in vowels_present:\n",
    "            if(string[0]==i):\n",
    "                kevin_score+=len(string)\n",
    "        for i in consonants_present:\n",
    "            if(string[0]==i):\n",
    "                stuart_score+=len(string)\n",
    "                \n",
    "    #score detector\n",
    "    if stuart_score>kevin_score:\n",
    "        print(\"Stuart\",stuart_score)\n",
    "    elif stuart_score<kevin_score:\n",
    "        print(\"Kevin\",kevin_score)\n",
    "    else:\n",
    "        print(\"Draw\")\n",
    "\n",
    "minion_game2('BANANA')"
   ]
  },
  {
   "cell_type": "code",
   "execution_count": null,
   "metadata": {},
   "outputs": [],
   "source": []
  }
 ],
 "metadata": {
  "kernelspec": {
   "display_name": "Python 3",
   "language": "python",
   "name": "python3"
  },
  "language_info": {
   "codemirror_mode": {
    "name": "ipython",
    "version": 3
   },
   "file_extension": ".py",
   "mimetype": "text/x-python",
   "name": "python",
   "nbconvert_exporter": "python",
   "pygments_lexer": "ipython3",
   "version": "3.7.4"
  }
 },
 "nbformat": 4,
 "nbformat_minor": 2
}
