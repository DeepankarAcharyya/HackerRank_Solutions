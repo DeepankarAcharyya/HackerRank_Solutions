{
 "cells": [
  {
   "cell_type": "code",
   "execution_count": 4,
   "metadata": {},
   "outputs": [
    {
     "name": "stdout",
     "output_type": "stream",
     "text": [
      "5 6\n"
     ]
    }
   ],
   "source": [
    "n,m=input().split()\n",
    "n=int(n)\n",
    "m=int(m)\n",
    "\n",
    "set1=list(map(int,input().split()))\n",
    "\n",
    "set2=list(map(int,input().split()))\n",
    "set2=set(set2)\n",
    "set3=list(map(int,input().split()))\n",
    "set3=set(set3)\n",
    "\n",
    "happiness=0\n",
    "for i in set1:\n",
    "    if i in set2:\n",
    "        happiness=happiness+1\n",
    "    elif i in set3:\n",
    "        happiness=happiness-1\n",
    "\n",
    "happiness"
   ]
  },
  {
   "cell_type": "code",
   "execution_count": null,
   "metadata": {},
   "outputs": [],
   "source": []
  }
 ],
 "metadata": {
  "kernelspec": {
   "display_name": "Python 3",
   "language": "python",
   "name": "python3"
  },
  "language_info": {
   "codemirror_mode": {
    "name": "ipython",
    "version": 3
   },
   "file_extension": ".py",
   "mimetype": "text/x-python",
   "name": "python",
   "nbconvert_exporter": "python",
   "pygments_lexer": "ipython3",
   "version": "3.7.4"
  }
 },
 "nbformat": 4,
 "nbformat_minor": 2
}
